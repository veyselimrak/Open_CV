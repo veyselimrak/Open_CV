{
 "cells": [
  {
   "cell_type": "markdown",
   "metadata": {},
   "source": [
    "Resimleri_Okuma_Gösterme_Kaydetme"
   ]
  },
  {
   "cell_type": "markdown",
   "metadata": {},
   "source": []
  },
  {
   "cell_type": "code",
   "execution_count": 2,
   "metadata": {},
   "outputs": [],
   "source": [
    "import cv2\n",
    "\n",
    "img = cv2.imread(\"klon.jpg\",)# gri tonlarda görmek istersek 0 da girilebilir. imread() Resim okuma işlemi yapar. eğer resmi gri tonlarda okumak istersek bir parametre daha eklemek gerekir.\n",
    "# ilk parametrede resmin dizini girilir. Türkçe karakter olmaması gerekir aksi takdirde hata verir.\n",
    "# print(img)  #Resimler renk yoğunluklarından oluşan birer matrislerdir.\n",
    "cv2.namedWindow(\"image\",cv2.WINDOW_NORMAL) #  ilk parametre hangi pencerede açılacağı\n",
    "# ikinci parametre büyütüp küçültme işleminin yapılabilmesi için\n",
    "\n",
    "cv2.imshow(\"image\",img)# 2 parametre alır. ilki resmin açılacağı pencere ikincisi resmin tutulduğu değişken adı\n",
    "cv2.imwrite(\"klon1.jpg\",img) # oluşacak yeni resmin ismi , kaydedilecek resmin değişkeni\n",
    "#imwrite() fonksiyonu resmi kaydetmek için kulllanılır.\n",
    "cv2.waitKey(0) # bu fonksiyon girilen değer kadar ekranda tutulur. değer milisaniye cinsinden yazılır.\n",
    "cv2.destroyAllWindows() #bir iskelet olarak kullanılır. genellikle her kodun sonuna yazılır.\n",
    "\n",
    "\n",
    "\n"
   ]
  },
  {
   "cell_type": "markdown",
   "metadata": {},
   "source": [
    "Pencereyi Yeniden Boyutlandırma (ReSize)"
   ]
  },
  {
   "cell_type": "code",
   "execution_count": 10,
   "metadata": {},
   "outputs": [],
   "source": [
    "import cv2\n",
    "\n",
    "cv2.namedWindow(\"Klon\")\n",
    "img = cv2.imread(\"klon.jpg\")\n",
    "img = cv2.resize(img, (400, 1000)) # resize() Resmi yeniden boyutlandırma işlemini yapar.\n",
    "cv2.imshow(\"klon\", img)\n",
    "\n",
    "cv2.waitKey(0)\n",
    "cv2.destroyAllWindows()"
   ]
  },
  {
   "cell_type": "markdown",
   "metadata": {},
   "source": [
    "En boy oranı bakımından Resmi boyutlandırma (Aspect Ratio)"
   ]
  },
  {
   "cell_type": "code",
   "execution_count": 11,
   "metadata": {},
   "outputs": [],
   "source": [
    "import cv2\n",
    "\n",
    "def resizewithAspectRatio(img, width = None, height = None, inter = cv2.INTER_AREA):\n",
    "    dimension = None # dimension boyut demektir.\n",
    "    (h,w) = img.shape[:2]\n",
    "\n",
    "    if width is None and height is None:\n",
    "        return img\n",
    "\n",
    "    if width is None:\n",
    "        r = height / float(h)\n",
    "        dimension = (int(w*r), height)\n",
    "    \n",
    "    else:\n",
    "        r = width / float(w)\n",
    "        dimension = (width, int(h*r))\n",
    "\n",
    "    return cv2.resize(img, dimension, interpolation = inter)\n",
    "\n",
    "img = cv2.imread(\"klon.jpg\")\n",
    "\n",
    "img1 = resizewithAspectRatio(img, width=None, height=600,inter=cv2.INTER_AREA)\n",
    "cv2.imshow(\"Original\", img)\n",
    "cv2.imshow(\"Resized\", img1)\n",
    "\n",
    "cv2.waitKey(0)\n",
    "cv2.destroyAllWindows()\n",
    "\n",
    "#INTER_AREA nın amacı resim yeniden boyutlandırılırken oluşabilecek çakışmaların bozuklukların önüne geçilmesidir.\n",
    "# Oluşturulan fonksiyondaki mantık resim yeniden boyutlandırılırken diğer bir kısmın da aynı oranda artmasını sağlayabilmek.\n",
    "# yani sadece yükseklik girildiyse girilen yüksekliği normal yüksekliğe bölüyor. oranı buluyor. \n",
    "# aynı oranda genişliğide artırıyor. en boy oranı bozulmadan resim boyutlandırılmış oluyor.\n",
    "# shape metodu resmin boyutlarına erişmek için kullanılır.\n",
    "\n",
    "\n"
   ]
  },
  {
   "cell_type": "markdown",
   "metadata": {},
   "source": [
    "Kareler Videoların yapı taşlarıdır. piksel görüntü arasındaki ilişki gibi \n",
    "Kare: videonun herhangi bir anındaki görüntüdür.\n",
    "Video: birden fazla karenin arka arkaya gelmesiyle oluşur."
   ]
  },
  {
   "cell_type": "markdown",
   "metadata": {},
   "source": [
    "Video Okuma Ve Gösterme"
   ]
  },
  {
   "cell_type": "code",
   "execution_count": 1,
   "metadata": {},
   "outputs": [],
   "source": [
    "import cv2\n",
    "# Video Dosyası alındı.\n",
    "cap = cv2.VideoCapture(\"antalya.mp4\") # sourcereader hatsı alınıyorsa cv2.CAP_DSHOW yazılır 2. parametre olarak.\n",
    "\n",
    "# video dosyası kare kare getirilip gösterilerek video gösterildi.\n",
    "while True:\n",
    "    # videoların kareleri tek tek okunur. ve tek tek gösterilir.\n",
    "    ret, frame = cap.read() # 2 değer döndürür. doğru okuduysa true veya false, ikinci değer frameleri yani kareleri verir.\n",
    "    if ret == 0: # yapmamızın amacı video bittiğinde ret 0 değeri döndürür.\n",
    "        # video bittiğinde videoyu kapatmak için yaptık.\n",
    "        break\n",
    "    frame = cv2.flip(frame, 1) # flip ekseni değiştirmek için  kullanılır. 1 dersek y eksenine göre yansıtılmış hli gösterir.\n",
    "    cv2.imshow(\"Antalya\", frame)\n",
    "    cv2.waitKey(1) # her bir kare(frame) den sonra  30 ms beklicek. 0 koyulursa video ilerlemez.\n",
    "    if cv2.waitKey(1) & 0xFF == ord(\"q\"): # q ya basıldığında video kapanır.\n",
    "        break\n",
    "        # 0xFF klavyede basılan değer ord() ile klavye ile bağlantı sağlanır.\n",
    "\n",
    "cap.release() # videoyu serbest bırakır.\n",
    "# video dosyası üzerinde değişiklik yapmak istersek video açık olduğundan işleme izin vermez.\n",
    "# ama release ile videoyu serbest bırakır başla bi işleme başlayabiliriz.\n",
    "cv2.destroyAllWindows() \n",
    "\n",
    "\n",
    "# VideoCapture() girilen parametreler webcamden mi yoksa hali hazırda bulunan videodan mı alıcağımızı belirler.\n",
    "# webcam için 0 bilgisayarda bulunan video için adres girilir.\n"
   ]
  },
  {
   "cell_type": "markdown",
   "metadata": {},
   "source": [
    "Video Kaydetme() webcamden  tek tek alınan kareleri kaydedip video haline getirmek"
   ]
  },
  {
   "cell_type": "code",
   "execution_count": 1,
   "metadata": {},
   "outputs": [],
   "source": [
    "import cv2\n",
    "\n",
    "cap = cv2.VideoCapture(0, cv2.CAP_DSHOW) # bir kamera daha takılıysa 0 yerine 1 girilir.\n",
    "fileName = \"webcam.mp4\"\n",
    "codec = cv2.VideoWriter_fourcc(*'mp4v')\n",
    "frameRate = 30\n",
    "resolution = (640,480)\n",
    "\n",
    "VideoFileOutput = cv2.VideoWriter(fileName, codec, frameRate, resolution) # codec bir kod çözücüdür.\n",
    "\n",
    "\n",
    "while True:\n",
    "    ret, frame = cap.read()\n",
    "    frame = cv2.flip(frame,1)\n",
    "    VideoFileOutput.write(frame)\n",
    "\n",
    "    cv2.imshow(\"Webcam Live\", frame)\n",
    "    if cv2.waitKey(1) & 0xFF == ord(\"q\"):\n",
    "        break\n",
    "\n",
    "VideoFileOutput.release()\n",
    "cap.release()\n",
    "cv2.destroyAllWindows()"
   ]
  },
  {
   "cell_type": "markdown",
   "metadata": {},
   "source": [
    "Android Kamera Kullanımı"
   ]
  },
  {
   "cell_type": "code",
   "execution_count": null,
   "metadata": {},
   "outputs": [],
   "source": [
    "import cv2\n",
    "import numpy as np\n",
    "import requests\n",
    "url = \"http://192.168.1.21:8080//shot.jpg\"\n",
    "\n",
    "while True:\n",
    "    img_resp = requests.get(url)\n",
    "    img_arr = np.array(bytearray(img_resp.content), dtype = np.uint8)\n",
    "    img = cv2.imdecode(img_arr, cv2.IMREAD_COLOR)\n",
    "    img = cv2.resize(img, (640,480))\n",
    "    cv2.imshow(\"Android Camera\",img)\n",
    "\n",
    "    if cv2.waitKey(1) == 27:\n",
    "        break\n",
    "\n",
    "cv2.destroyAllWindows()\n"
   ]
  }
 ],
 "metadata": {
  "kernelspec": {
   "display_name": "Python 3",
   "language": "python",
   "name": "python3"
  },
  "language_info": {
   "codemirror_mode": {
    "name": "ipython",
    "version": 3
   },
   "file_extension": ".py",
   "mimetype": "text/x-python",
   "name": "python",
   "nbconvert_exporter": "python",
   "pygments_lexer": "ipython3",
   "version": "3.10.5"
  },
  "orig_nbformat": 4,
  "vscode": {
   "interpreter": {
    "hash": "fc005291fefeb300f5b4e373bec26c769fc7c8cb9d2e77a3cc860a80f916a229"
   }
  }
 },
 "nbformat": 4,
 "nbformat_minor": 2
}
