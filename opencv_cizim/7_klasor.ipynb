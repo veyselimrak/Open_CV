{
 "cells": [
  {
   "cell_type": "markdown",
   "metadata": {},
   "source": [
    "Çizim Ekranı Oluşturma"
   ]
  },
  {
   "cell_type": "code",
   "execution_count": 5,
   "metadata": {},
   "outputs": [],
   "source": [
    "import cv2\n",
    "import numpy as np\n",
    "\n",
    "canvas = np.zeros((512,512,3),dtype=np.uint8) + 100 # canvas = Tual\n",
    "# print(canvas)\n",
    "\n",
    "cv2.imshow(\"Canvas\", canvas)\n",
    "cv2.waitKey(0)\n",
    "cv2.destroyAllWindows()\n",
    "\n",
    "#uint çizim yapılırken kullanılan veri tipidir.\n",
    "\n"
   ]
  },
  {
   "cell_type": "markdown",
   "metadata": {},
   "source": [
    "Bilgisayarlar bir görüntüyü nasıl oluşturur.(Görüntü Mantığı)"
   ]
  },
  {
   "cell_type": "code",
   "execution_count": 9,
   "metadata": {},
   "outputs": [],
   "source": [
    "import cv2\n",
    "import  numpy as np\n",
    "\n",
    "# img = np.zeros((10, 10, 3), dtype= np.uint8)\n",
    "# img[0,0] = (255,255,255)\n",
    "# img[0,1] = (255,255,200)\n",
    "# img[0,2] = (255,255,150)\n",
    "# img[0,3] = (255,255,15)\n",
    "\n",
    "img = np.zeros((10, 10),dtype=np.uint8)\n",
    "\n",
    "img[0,0] = 255\n",
    "img[0,1] = 200\n",
    "img[0,2] = 100\n",
    "img[0,3] = 10\n",
    "\n",
    "img = cv2.resize(img, (1000,1000), interpolation=cv2.INTER_AREA)\n",
    "\n",
    "\n",
    "\n",
    "cv2.imshow(\"Canvas\", img)\n",
    "cv2.waitKey(0)\n",
    "cv2.destroyAllWindows()"
   ]
  },
  {
   "cell_type": "markdown",
   "metadata": {},
   "source": [
    "Çizim Fonksiyonları"
   ]
  },
  {
   "cell_type": "code",
   "execution_count": 30,
   "metadata": {},
   "outputs": [],
   "source": [
    "import cv2\n",
    "import numpy as np\n",
    "\n",
    "canvas = np.zeros((512, 512, 3), dtype= np.uint8) + 255\n",
    "# print(canvas)\n",
    "\n",
    "# ÇİZGİ ÇİZİMİ\n",
    "cv2.line(canvas, (50,50), (512,512), (255,0,0), thickness=5) # line() çizgi çekmek için kullanılır.\n",
    "# 1. hangi tuale çizgi çekileceği 2. parametre çziginin nereden başlayacağı\n",
    "# 3.parametre çizginin nerede biteceği 4. parametre çizginin rengini\n",
    "# # 4. parametre de kalınlık değerini belirtir. thickness = kalınlık değeri\n",
    "# thickness girmek zorunda da değiliz.\n",
    "cv2.line(canvas, (100,50), (200,200), (0,0,255), thickness=7) \n",
    "\n",
    "# DÜZGÜN DİKDÖRTGEN VEYA KARE ÇİZİMİ\n",
    "cv2.rectangle(canvas, (20,20),(50,50),(0,255,0), thickness=-1) # rectangle dikdörtgen oluşturmak için kulllanılır.\n",
    "# 1.parametre hangi tuale çizileceği 2. parametre sol üst köşesi\n",
    "# 3. parametre sağ alt köşesi 4. parametre rengi 5. parametre kalınlık yazılır.\n",
    "cv2.rectangle(canvas, (50,50),(150,150),(0,255,0), thickness=5)\n",
    " \n",
    "# ÇEMBER ÇİZİMİ\n",
    "cv2.circle(canvas, (250,250), (100), (0,0,255), thickness=-1)\n",
    "# 2.parametre merkezi 3. parametre yarıçap değeri\n",
    "# 4.parametre rengi 5. parametre kalınlığı girilir. Kalınlık -1 ise şeklin içinin dolu olduğunu beliritir.\n",
    "\n",
    "# ÜÇGEN ÇİZİMİ ÖZEL FONKSİYON YOK 3 ÇİZGİ ÇİZEREK OLUŞTURULABİLİR.\n",
    "\n",
    "# BENİM KENDİ DENEDİĞİM\n",
    "cv2.line(canvas, (50,50), (150,150), (255,0,0), thickness=5)\n",
    "cv2.line(canvas, (50,50), (150,150), (255,0,0), thickness=5)\n",
    "cv2.line(canvas, (200,50), (150,150), (255,0,0), thickness=5)\n",
    "cv2.line(canvas, (200,50), (50,50), (255,0,0), thickness=5)\n",
    "\n",
    "# HOCANIN YAPTIĞI\n",
    "p1 = (100,200)\n",
    "p2 = (50,50)\n",
    "p3 = (300,100)\n",
    "\n",
    "cv2.line(canvas, p1, p2, (0,0,0), thickness=5)\n",
    "cv2.line(canvas, p2, p3, (0,0,0), thickness=5)\n",
    "cv2.line(canvas, p3, p1, (0,0,0), thickness=5)\n",
    "\n",
    "#BEŞGEN VEYA HERHANGİ BİR ŞEKİL ÇİZME\n",
    "points = np.array([[[110,200], [330,200], [290,220], [100,100]]], np.int32)\n",
    "cv2.polylines(canvas, [points], False, (0,0,100), 5)\n",
    "# şeklin kapalı olmasını istiyorsak True değeri girilir.\n",
    "\n",
    "# ELLİPSE ÇİZİMİ\n",
    "cv2.ellipse(canvas, (300,300),(80,20), 20, 0,360, (255,255,0), -1)\n",
    "# 2.parametre merkezi 3.parametre genişlik ve yükseklik 4.parametre yatay eksenle yapılacak açı\n",
    "# 5.parametre çizime hangi dereceden başlayacağı 6.parametre çizime hangi dereceden bitireceği\n",
    "# 6.parametre renk 7.parametre kalınlık değeri\n",
    "\n",
    "cv2.imshow(\"Canvas\", canvas)\n",
    "cv2.waitKey(0)\n",
    "cv2.destroyAllWindows()"
   ]
  },
  {
   "cell_type": "markdown",
   "metadata": {},
   "source": [
    "Yazı Yazdırma"
   ]
  },
  {
   "cell_type": "code",
   "execution_count": 46,
   "metadata": {},
   "outputs": [],
   "source": [
    "import cv2\n",
    "import numpy as np\n",
    "\n",
    "canvas = np.zeros((512,512,3), dtype=np.uint8) + 255\n",
    "\n",
    "font1 = cv2.FONT_HERSHEY_SIMPLEX\n",
    "font2 = cv2.FONT_HERSHEY_COMPLEX\n",
    "font3 = cv2.FONT_HERSHEY_SCRIPT_COMPLEX\n",
    "\n",
    "cv2.putText(canvas,\"OpenCV\", (7,100), font2, 4, (0,0,0), cv2.LINE_AA)\n",
    "# 3.parametre metnin başlangıcının koordinatı 4.parametre yazı tipi\n",
    "# 5.parametre fontun büyüklüğü 6.parametre fontun rengi 7.parametre yazının tipi\n",
    "\n",
    "cv2.imshow(\"Canvas\", canvas)\n",
    "cv2.waitKey(0)\n",
    "cv2.destroyAllWindows()"
   ]
  },
  {
   "cell_type": "markdown",
   "metadata": {},
   "source": [
    "Trackbar Oluşturma"
   ]
  },
  {
   "cell_type": "code",
   "execution_count": 51,
   "metadata": {},
   "outputs": [],
   "source": [
    "import cv2\n",
    "import numpy as np\n",
    "def nothing(x):\n",
    "    pass\n",
    "\n",
    "img = np.zeros((512,512,3), np.uint8)\n",
    "cv2.namedWindow(\"image\")\n",
    "\n",
    "cv2.createTrackbar(\"R\", \"image\", 0, 255, nothing)\n",
    "cv2.createTrackbar(\"G\", \"image\", 0, 255, nothing)\n",
    "cv2.createTrackbar(\"B\", \"image\", 0, 255, nothing)\n",
    "\n",
    "switch = \"0: OFF, 1: ON\"\n",
    "cv2.createTrackbar(switch, \"image\", 0, 1, nothing)\n",
    "\n",
    "# 1.parametre kızağın adı 2.parametre kızağın oluşacağı pencere adı\n",
    "# 3ve 4.parametre kızağın başlangıç ve bitiş değerleri\n",
    "# nothingi girme sebebimiz trackbarın düzgün çalışması için gerekli opencv tarafından kaynaklanan birşey\n",
    "\n",
    "while True:\n",
    "    cv2.imshow(\"image\", img)\n",
    "    if cv2.waitKey(1) & 0xFF == ord(\"q\"):\n",
    "        break\n",
    "\n",
    "    \n",
    "    r = cv2.getTrackbarPos(\"R\", \"image\") # oluşturulan trackbarları getirir.\n",
    "    g = cv2.getTrackbarPos(\"G\", \"image\")\n",
    "    b = cv2.getTrackbarPos(\"B\", \"image\")\n",
    "    s = cv2.getTrackbarPos(switch, \"image\")\n",
    "\n",
    "\n",
    "    if s == 0:\n",
    "        img[:] = [0,0,0]\n",
    "    \n",
    "    if s == 1:\n",
    "        img[:] = [r, g, b]\n",
    "    \n",
    "    \n",
    "\n",
    "cv2.destroyAllWindows()\n",
    "\n",
    "\n",
    "\n",
    "\n"
   ]
  }
 ],
 "metadata": {
  "kernelspec": {
   "display_name": "Python 3",
   "language": "python",
   "name": "python3"
  },
  "language_info": {
   "codemirror_mode": {
    "name": "ipython",
    "version": 3
   },
   "file_extension": ".py",
   "mimetype": "text/x-python",
   "name": "python",
   "nbconvert_exporter": "python",
   "pygments_lexer": "ipython3",
   "version": "3.10.5"
  },
  "orig_nbformat": 4,
  "vscode": {
   "interpreter": {
    "hash": "fc005291fefeb300f5b4e373bec26c769fc7c8cb9d2e77a3cc860a80f916a229"
   }
  }
 },
 "nbformat": 4,
 "nbformat_minor": 2
}
